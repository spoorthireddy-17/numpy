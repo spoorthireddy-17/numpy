{
 "cells": [
  {
   "cell_type": "code",
   "execution_count": 1,
   "id": "a19e6d9c-1c37-44cc-bf53-c8bff152c434",
   "metadata": {},
   "outputs": [
    {
     "name": "stdout",
     "output_type": "stream",
     "text": [
      "Requirement already satisfied: numpy in c:\\users\\spoor\\anaconda3\\envs\\myenv\\lib\\site-packages (2.2.2)\n",
      "Note: you may need to restart the kernel to use updated packages.\n"
     ]
    }
   ],
   "source": [
    "pip install numpy\n"
   ]
  },
  {
   "cell_type": "code",
   "execution_count": 2,
   "id": "a06463be-a5b4-4e1e-9166-c50fbbb1c425",
   "metadata": {},
   "outputs": [],
   "source": [
    "import numpy as np"
   ]
  },
  {
   "cell_type": "code",
   "execution_count": 9,
   "id": "bf99b7d0-df31-475c-b9e3-da37677e3408",
   "metadata": {},
   "outputs": [
    {
     "name": "stdout",
     "output_type": "stream",
     "text": [
      "[1 2 3]\n",
      "1\n"
     ]
    }
   ],
   "source": [
    "#1D array\n",
    "arr_1d=np.array([1,2,3])\n",
    "print(arr_1d)\n",
    "print(arr_1d.ndim)"
   ]
  },
  {
   "cell_type": "code",
   "execution_count": 10,
   "id": "a766f095-f6fb-44a1-b47b-b186d8223e49",
   "metadata": {},
   "outputs": [
    {
     "name": "stdout",
     "output_type": "stream",
     "text": [
      "[[1 2 3]\n",
      " [4 5 6]]\n",
      "2\n"
     ]
    }
   ],
   "source": [
    "#2D array\n",
    "arr_2d=np.array([[1,2,3],[4,5,6]])\n",
    "print(arr_2d)\n",
    "print(arr_2d.ndim)"
   ]
  },
  {
   "cell_type": "code",
   "execution_count": 15,
   "id": "3f7d31e7-2600-465e-94e8-f7a02b36c151",
   "metadata": {},
   "outputs": [
    {
     "name": "stdout",
     "output_type": "stream",
     "text": [
      "[[[1 2 3]\n",
      "  [4 5 6]]\n",
      "\n",
      " [[2 4 6]\n",
      "  [7 8 9]]]\n",
      "3\n"
     ]
    }
   ],
   "source": [
    "#3D array\n",
    "arr_3d=np.array([[[1,2,3],[4,5,6]],[[2,4,6],[7,8,9]]])\n",
    "print(arr_3d)\n",
    "print(arr_3d.ndim)"
   ]
  },
  {
   "cell_type": "code",
   "execution_count": 19,
   "id": "40c5c10f-738c-4514-9937-091edc10195e",
   "metadata": {},
   "outputs": [
    {
     "name": "stdout",
     "output_type": "stream",
     "text": [
      "[[0. 0.]\n",
      " [0. 0.]]\n"
     ]
    }
   ],
   "source": [
    "#array of zeros\n",
    "zeros=np.zeros((2,2))\n",
    "print(zeros)"
   ]
  },
  {
   "cell_type": "code",
   "execution_count": 20,
   "id": "c7aba31e-2d09-45e4-9294-f04bb48d65c3",
   "metadata": {},
   "outputs": [
    {
     "name": "stdout",
     "output_type": "stream",
     "text": [
      "[[1. 1. 1. 1.]\n",
      " [1. 1. 1. 1.]]\n"
     ]
    }
   ],
   "source": [
    "#array of ones\n",
    "ones=np.ones((2,4))\n",
    "print(ones)"
   ]
  },
  {
   "cell_type": "code",
   "execution_count": 21,
   "id": "56154b0e-6fb8-43b1-ad8c-e800a0fc717a",
   "metadata": {},
   "outputs": [
    {
     "name": "stdout",
     "output_type": "stream",
     "text": [
      "[[0.60235897 0.71276383 0.89211936]\n",
      " [0.61728116 0.55217667 0.47055574]]\n"
     ]
    }
   ],
   "source": [
    "#array of random values\n",
    "rand_arr=np.random.random((2,3))\n",
    "print(rand_arr)"
   ]
  },
  {
   "cell_type": "code",
   "execution_count": 22,
   "id": "c14cc7ad-fc45-4e48-b6af-2d9069ad20b6",
   "metadata": {},
   "outputs": [
    {
     "name": "stdout",
     "output_type": "stream",
     "text": [
      "[[1. 0. 0.]\n",
      " [0. 1. 0.]\n",
      " [0. 0. 1.]]\n"
     ]
    }
   ],
   "source": [
    "#identity matrix\n",
    "ident=np.eye(3)\n",
    "print(ident)"
   ]
  },
  {
   "cell_type": "code",
   "execution_count": 23,
   "id": "847d8250-5399-4aa4-a295-90a0dec9ba43",
   "metadata": {},
   "outputs": [
    {
     "name": "stdout",
     "output_type": "stream",
     "text": [
      "[0 2 4 6 8]\n"
     ]
    }
   ],
   "source": [
    "#array with a range of values\n",
    "range=np.arange(0,10,2)#start,stop,step\n",
    "print(range)"
   ]
  },
  {
   "cell_type": "code",
   "execution_count": 24,
   "id": "54df8f90-4df2-4d96-8d32-315c9b8dedcf",
   "metadata": {},
   "outputs": [
    {
     "name": "stdout",
     "output_type": "stream",
     "text": [
      "shape: (2, 3)\n",
      "size: 6\n",
      "data type: int64\n",
      "dimension: 2\n"
     ]
    }
   ],
   "source": [
    "#array attributes\n",
    "arr=np.array([[1,2,3],[3,4,5]])\n",
    "print(\"shape:\",arr.shape)\n",
    "print(\"size:\",arr.size)\n",
    "print(\"data type:\",arr.dtype)\n",
    "print(\"dimension:\",arr.ndim)"
   ]
  },
  {
   "cell_type": "code",
   "execution_count": 28,
   "id": "9b2c1052-a204-473b-8e5a-c438620d7dce",
   "metadata": {},
   "outputs": [
    {
     "name": "stdout",
     "output_type": "stream",
     "text": [
      "[[22 25 20]\n",
      " [24 26 23]]\n",
      "shape: (2, 3)\n",
      "size: 6\n",
      "data type: int64\n",
      "dimension: 2\n",
      "updated: [[22 25 20]\n",
      " [24 26 23]\n",
      " [21 23 22]]\n",
      "sensor errors: [[0. 0. 0.]\n",
      " [0. 0. 0.]]\n",
      "greenhouse: [[1. 0. 0.]\n",
      " [0. 1. 0.]\n",
      " [0. 0. 1.]]\n"
     ]
    }
   ],
   "source": [
    "#example\n",
    "temp_data=np.array([[22,25,20],[24,26,23]])\n",
    "print(temp_data)\n",
    "print(\"shape:\",temp_data.shape)\n",
    "print(\"size:\",temp_data.size)\n",
    "print(\"data type:\",temp_data.dtype)\n",
    "print(\"dimension:\",temp_data.ndim)\n",
    "updated_temp_data=np.array([[22,25,20],[24,26,23],[21,23,22]])\n",
    "sensor_error_flags=np.zeros((2,3))\n",
    "gh_identity=np.eye(3)\n",
    "print(\"updated:\",updated_temp_data)\n",
    "print(\"sensor errors:\",sensor_error_flags)\n",
    "print(\"greenhouse:\",gh_identity)"
   ]
  },
  {
   "cell_type": "code",
   "execution_count": 29,
   "id": "fbb5246a-2d53-4b48-a746-b52acc50c2db",
   "metadata": {},
   "outputs": [
    {
     "name": "stdout",
     "output_type": "stream",
     "text": [
      "3\n",
      "5\n"
     ]
    }
   ],
   "source": [
    "#indexing and slicing\n",
    "#indexing:same as accessing an element by index\n",
    "arr=np.array([[1,2,3],[4,5,6]])\n",
    "print(arr[0,2])\n",
    "print(arr[1,-2])"
   ]
  },
  {
   "cell_type": "code",
   "execution_count": 30,
   "id": "70fb896c-b9de-41f4-b07e-f18fb1423458",
   "metadata": {},
   "outputs": [
    {
     "name": "stdout",
     "output_type": "stream",
     "text": [
      "[[2 3]\n",
      " [5 6]]\n"
     ]
    }
   ],
   "source": [
    "#slicing:taing elements from one given index to another given index\n",
    "#[start:end],[start:end:step]\n",
    "print(arr[:,1:])"
   ]
  },
  {
   "cell_type": "code",
   "execution_count": 42,
   "id": "2694d2ff-0a17-4e0b-b8b7-e9c3b58b5187",
   "metadata": {},
   "outputs": [
    {
     "name": "stdout",
     "output_type": "stream",
     "text": [
      "[[50 40]\n",
      " [60 45]\n",
      " [55 50]\n",
      " [70 60]\n",
      " [65 55]\n",
      " [80 70]\n",
      " [90 75]]\n",
      "apples shipped on wed: 55\n",
      "oranges shiped on sunday: 75\n",
      "weekday shipments: [[50 40]\n",
      " [60 45]\n",
      " [55 50]\n",
      " [70 60]\n",
      " [65 55]]\n",
      "weekend shipments: [[80 70]\n",
      " [90 75]]\n",
      "apples from wed to sat: [[55]\n",
      " [70]\n",
      " [65]\n",
      " [80]]\n",
      "replaced 80 apples on sat with 100: 100\n"
     ]
    }
   ],
   "source": [
    "#example\n",
    "#row=fruits(apples,oranges),col=days(mon-sun)\n",
    "shipments=np.array([[50,40],[60,45],[55,50],[70,60],[65,55],[80,70],[90,75]])\n",
    "print(shipments)\n",
    "print(\"apples shipped on wed:\",shipments[2,0])\n",
    "print(\"oranges shiped on sunday:\",shipments[6,1])\n",
    "#slicing\n",
    "print(\"weekday shipments:\",shipments[:5,:])\n",
    "print(\"weekend shipments:\",shipments[5:,:])\n",
    "print(\"apples from wed to sat:\",shipments[2:6,:1])\n",
    "shipments[5,0]=100\n",
    "print(\"replaced 80 apples on sat with 100:\",shipments[5,0])"
   ]
  },
  {
   "cell_type": "code",
   "execution_count": 44,
   "id": "22edc145-8864-4ad2-a712-48f7474791e9",
   "metadata": {},
   "outputs": [
    {
     "name": "stdout",
     "output_type": "stream",
     "text": [
      "[5 7 9]\n",
      "[ 4 10 18]\n",
      "[2 4 6]\n",
      "[[19 22]\n",
      " [43 50]]\n"
     ]
    }
   ],
   "source": [
    "#array operations\n",
    "#a.arithmetic\n",
    "a=np.array([1,2,3])\n",
    "b=np.array([4,5,6])\n",
    "#element wise addition \n",
    "print(a+b)\n",
    "#element wise multiplication\n",
    "print(a*b)\n",
    "#scarlar opeartions\n",
    "print(a*2)\n",
    "#matrix multiplication\n",
    "mat1=np.array([[1,2,],[3,4]])\n",
    "mat2=np.array([[5,6],[7,8]])\n",
    "res=np.dot(mat1,mat2)\n",
    "print(res)"
   ]
  },
  {
   "cell_type": "code",
   "execution_count": 48,
   "id": "42957d64-6c27-4020-b949-b20f10e7d895",
   "metadata": {},
   "outputs": [
    {
     "name": "stdout",
     "output_type": "stream",
     "text": [
      "[3 4 5]\n"
     ]
    }
   ],
   "source": [
    "#Broadcasting-numpy automatically applies operations across arrays of different shapes when compatible\n",
    "a=np.array([1,2,3])\n",
    "b=2\n",
    "print(a+b)"
   ]
  },
  {
   "cell_type": "code",
   "execution_count": 55,
   "id": "e335040c-93f1-41e4-bcac-e3355b837179",
   "metadata": {},
   "outputs": [
    {
     "name": "stdout",
     "output_type": "stream",
     "text": [
      "[ 2.71828183  7.3890561  20.08553692]\n",
      "[1.         1.41421356 1.73205081]\n",
      "[0.         0.69314718 1.09861229]\n",
      "[  1  32 729]\n",
      "0.6666666666666666\n",
      "[-2 -3 -4]\n"
     ]
    }
   ],
   "source": [
    "#universal functions\n",
    "\"\"\"\n",
    "1. Arithmetic ufuncs\n",
    "Operate element-wise on arrays.\n",
    "np.add(x, y)\n",
    "np.subtract(x, y)\n",
    "np.multiply(x, y)\n",
    "np.divide(x, y)\n",
    "np.power(x, y)\n",
    "np.mod(x, y)\n",
    "🔹 2. Exponential and Logarithmic ufuncs\n",
    "(You already covered these)\n",
    "np.exp(x)\n",
    "np.log(x)\n",
    "np.log10(x)\n",
    "np.log2(x)\n",
    "np.expm1(x)    # exp(x) - 1 \n",
    "🔹 3. Trigonometric ufuncs\n",
    "np.sin(x)\n",
    "np.cos(x)\n",
    "np.tan(x)\n",
    "np.arcsin(x)\n",
    "np.arccos(x)\n",
    "np.arctan(x)\n",
    "np.degrees(x)\n",
    "np.radians(x)\n",
    "🔹 4. Rounding ufuncs\n",
    "np.round(x)\n",
    "np.floor(x)\n",
    "np.ceil(x)\n",
    "np.trunc(x)\n",
    "🔹 5. Statistical ufuncs\n",
    "(Operate along an axis or entire array)\n",
    "np.min(x)\n",
    "np.max(x)\n",
    "np.mean(x)\n",
    "np.std(x)\n",
    "np.var(x)\n",
    "np.sum(x)\n",
    "np.prod(x)\n",
    "🔹 6. Logical ufuncs\n",
    "np.logical_and(x, y)\n",
    "np.logical_or(x, y)\n",
    "np.logical_not(x)\n",
    "np.logical_xor(x, y)\n",
    "🔹 7. Comparison ufuncs\n",
    "(Return Boolean arrays)\n",
    "np.greater(x, y)\n",
    "np.less(x, y)\n",
    "np.equal(x, y)\n",
    "np.not_equal(x, y)\n",
    "np.greater_equal(x, y)\n",
    "np.less_equal(x, y)\n",
    "🔹 8. Bitwise ufuncs\n",
    "(Operate on integers)\n",
    "np.bitwise_and(x, y)\n",
    "np.bitwise_or(x, y)\n",
    "np.bitwise_xor(x, y)\n",
    "np.invert(x)\n",
    "\"\"\"\n",
    "arr=np.array([1,2,3])\n",
    "arr2=np.array([4,5,6])\n",
    "#exponentiation\n",
    "print(np.exp(arr))\n",
    "#square root\n",
    "print(np.sqrt(arr))\n",
    "#logarithm\n",
    "print(np.log(arr))\n",
    "#power\n",
    "print(np.power(arr,arr2))\n",
    "print(np.var(arr))\n",
    "print(np.invert(arr))"
   ]
  },
  {
   "cell_type": "code",
   "execution_count": 86,
   "id": "edbad345-ea7f-4043-a084-10c0b875d429",
   "metadata": {},
   "outputs": [
    {
     "name": "stdout",
     "output_type": "stream",
     "text": [
      "[[[10 12 11]\n",
      "  [ 9 11 10]\n",
      "  [12 13 14]\n",
      "  [ 8  7  9]]\n",
      "\n",
      " [[20 19 21]\n",
      "  [18 20 19]\n",
      "  [22 23 21]\n",
      "  [17 18 16]]\n",
      "\n",
      " [[15 16 14]\n",
      "  [14 13 15]\n",
      "  [16 17 18]\n",
      "  [12 11 13]]]\n",
      "shape: (3, 4, 3)\n",
      "size: 36\n",
      "data type: int64\n",
      "dim: 3\n",
      "sum of each farm: [126 234 174]\n",
      "mean: [10.5 19.5 14.5]\n",
      "std: [1.97905701 1.97905701 1.97905701]\n",
      "var: [3.91666667 3.91666667 3.91666667]\n",
      "[[25.25 23.   29.5  17.75]\n",
      " [44.75 43.25 49.75 38.5 ]\n",
      " [34.   31.25 38.5  26.75]]\n",
      "updated farmB: [[[10.  12.  11. ]\n",
      "  [ 9.  11.  10. ]\n",
      "  [12.  13.  14. ]\n",
      "  [ 8.   7.   9. ]]\n",
      "\n",
      " [[20.5 19.5 21.5]\n",
      "  [18.5 20.5 19.5]\n",
      "  [22.5 23.5 21.5]\n",
      "  [17.5 18.5 16.5]]\n",
      "\n",
      " [[15.  16.  14. ]\n",
      "  [14.  13.  15. ]\n",
      "  [16.  17.  18. ]\n",
      "  [12.  11.  13. ]]]\n",
      "normalised: [[[-0.25264558  0.75793673  0.25264558]\n",
      "  [-0.75793673  0.25264558 -0.25264558]\n",
      "  [ 0.75793673  1.26322788  1.76851903]\n",
      "  [-1.26322788 -1.76851903 -0.75793673]]\n",
      "\n",
      " [[ 0.25264558 -0.25264558  0.75793673]\n",
      "  [-0.75793673  0.25264558 -0.25264558]\n",
      "  [ 1.26322788  1.76851903  0.75793673]\n",
      "  [-1.26322788 -0.75793673 -1.76851903]]\n",
      "\n",
      " [[ 0.25264558  0.75793673 -0.25264558]\n",
      "  [-0.25264558 -0.75793673  0.25264558]\n",
      "  [ 0.75793673  1.26322788  1.76851903]\n",
      "  [-1.26322788 -1.76851903 -0.75793673]]]\n",
      "Total energy per panel (farms × panels):\n",
      "[[33.  30.  39.  24. ]\n",
      " [61.5 58.5 67.5 52.5]\n",
      " [45.  42.  51.  36. ]]\n",
      "Shape: (3, 4)\n",
      "maintanance needed: [ True False  True]\n",
      "sum of all farms: 540.0\n",
      "peak hour: 23.5\n",
      "avg panel across all farms: [[15.16666667 15.83333333 15.5       ]\n",
      " [13.83333333 14.83333333 14.83333333]\n",
      " [16.83333333 17.83333333 17.83333333]\n",
      " [12.5        12.16666667 12.83333333]]\n"
     ]
    }
   ],
   "source": [
    "#example\n",
    "#rows-panels,cols-hours\n",
    "'''\n",
    "1.Create arrays\n",
    "Create three 2D NumPy arrays farmA, farmB, farmC (each shape (4,3)).\n",
    "Stack them into a single 3D array production_all of shape (3, 4, 3).\n",
    "'''\n",
    "farmA=np.array([[10,12,11],[9,11,10],[12,13,14],[8,7,9]])\n",
    "farmB=np.array([[20,19,21],[18,20,19],[22,23,21],[17,18,16]])\n",
    "farmC=np.array([[15,16,14],[14,13,15],[16,17,18],[12,11,13]])\n",
    "production_all=np.stack([farmA,farmB,farmC])\n",
    "print(production_all)\n",
    "'''\n",
    "2.Array attributes\n",
    "Print the .shape, .size, .dtype, and .ndim of production_all.\n",
    "'''\n",
    "print(\"shape:\",production_all.shape)\n",
    "print(\"size:\",production_all.size)\n",
    "print(\"data type:\",production_all.dtype)\n",
    "print(\"dim:\",production_all.ndim)\n",
    "'''\n",
    "3.Per-farm totals (arithmetic & aggregation)\n",
    "Use aggregation ufuncs to compute the total energy per farm (sum across panels & hours) → total_per_farm (shape (3,)).\n",
    "Compute mean, std, and var per farm.\n",
    "'''\n",
    "total_per_farm=production_all.sum(axis=(1,2))\n",
    "print(\"sum of each farm:\",total_per_farm)\n",
    "print(\"mean:\",production_all.mean(axis=(1,2)))\n",
    "print(\"std:\",production_all.std(axis=(1,2)))\n",
    "print(\"var:\",production_all.var(axis=(1,2)))\n",
    "'''\n",
    "4.Per-hour matrix multiplication idea (matrix op)\n",
    "For a quick weighted estimate, create a hour_weights row vector of shape (3,) = [0.5, 1.0, 0.75] (weights for hour1, hour2, hour3).\n",
    "Compute weighted_per_panel by performing a dot product between each farm's panel-row and hour_weights to get per-panel weighted energy. (Use np.dot / matrix multiplication appropriately.)\n",
    "'''\n",
    "hr_wts=np.array([0.5,1.0,0.75])\n",
    "weighted_per_panel=production_all@hr_wts\n",
    "print(weighted_per_panel)\n",
    "'''\n",
    "5.Broadcasting adjustments\n",
    "The operator notices a fixed calibration offset of +0.5 kWh for all panels in Farm B. Use broadcasting to add this offset to Farm B data inside production_all (without recreating whole array manually).\n",
    "'''\n",
    "a=0.5\n",
    "production_all=np.stack([farmA,farmB+a,farmC])\n",
    "print(\"updated farmB:\",production_all)\n",
    "'''\n",
    "6.Element-wise arithmetic (ufuncs: add/sub/mul/div/power/mod)\n",
    "Compute a normalized version where you:\n",
    "subtract the per-farm mean (use broadcasting),\n",
    "divide by the per-farm std (broadcasting) — i.e., z-score normalize each farm's panel-hour readings.\n",
    "'''\n",
    "ma=np.mean(farmA)\n",
    "mb=np.mean(farmB)\n",
    "mc=np.mean(farmC)\n",
    "sa=np.std(farmA)\n",
    "sb=np.std(farmB)\n",
    "sc=np.std(farmC)\n",
    "da=np.divide(farmA-ma,sa)\n",
    "db=np.divide(farmB-mb,sb)\n",
    "dc=np.divide(farmC-mc,sc)\n",
    "normalized=np.stack([da,db,dc])\n",
    "print(\"normalised:\",normalized)\n",
    "\n",
    "#7.apply many ufuncs\n",
    "'''\n",
    "8.Broadcast-based summary table\n",
    "Use broadcasting to compute a (3,4) array panel_totals_per_farm = total per panel (sum across hours for each panel), and then compute a (3,) boolean needs_maintenance saying True if any panel in that farm has total < 40. Use np.min, np.max, np.any, np.all.\n",
    "'''\n",
    "panel_totals_per_farm = production_all.sum(axis=2)\n",
    "print(\"Total energy per panel (farms × panels):\")\n",
    "print(panel_totals_per_farm)\n",
    "print(\"Shape:\", panel_totals_per_farm.shape)\n",
    "needs_maintenance=np.any(panel_totals_per_farm<40,axis=1)\n",
    "print(\"maintanance needed:\",needs_maintenance)\n",
    "\n",
    "'''\n",
    "9.Final KPIs (aggregation)\n",
    "Compute:\n",
    "overall_total (sum of all farms),\n",
    "peak_hour value (max across hours) and which farm & panel produced it (use np.argmax with careful unraveling),\n",
    "average_per_panel across all farms.\n",
    "'''\n",
    "overall_total=np.sum(production_all)\n",
    "print(\"sum of all farms:\",overall_total)\n",
    "peak_hour=np.max(production_all)\n",
    "print(\"peak hour:\",peak_hour)\n",
    "avg_per_panel=production_all.mean(axis=0)\n",
    "print(\"avg panel across all farms:\",avg_per_panel)"
   ]
  },
  {
   "cell_type": "code",
   "execution_count": 87,
   "id": "847021fa-2bdc-409b-91dc-1f440f511f05",
   "metadata": {},
   "outputs": [
    {
     "name": "stdout",
     "output_type": "stream",
     "text": [
      "[[1 2]\n",
      " [3 4]\n",
      " [5 6]]\n"
     ]
    }
   ],
   "source": [
    "#Reshaping-reshaping the array size\n",
    "arr=np.array([1,2,3,4,5,6])\n",
    "reshaped=arr.reshape(3,2)\n",
    "print(reshaped)"
   ]
  },
  {
   "cell_type": "code",
   "execution_count": 94,
   "id": "be2cc6c5-8a85-4a26-a350-bc80d921c55d",
   "metadata": {},
   "outputs": [
    {
     "name": "stdout",
     "output_type": "stream",
     "text": [
      "vertical: [[1 2]\n",
      " [3 4]]\n",
      "horizontal: [1 2 3 4]\n"
     ]
    }
   ],
   "source": [
    "#stacking and splitting\n",
    "#stacking\n",
    "a=np.array([1,2])\n",
    "b=np.array([3,4])\n",
    "#vertical stack\n",
    "print(\"vertical:\",np.vstack((a,b)))#a at 0 index and b at 1 index\n",
    "#horizontal\n",
    "print(\"horizontal:\",np.hstack((a,b)))"
   ]
  },
  {
   "cell_type": "code",
   "execution_count": 96,
   "id": "2ce8afd6-204a-4e75-adc0-e277f456f428",
   "metadata": {},
   "outputs": [
    {
     "name": "stdout",
     "output_type": "stream",
     "text": [
      "[array([1, 2]), array([3]), array([4]), array([5]), array([6])]\n"
     ]
    }
   ],
   "source": [
    "#splitting\n",
    "arr=np.array([1,2,3,4,5,6])\n",
    "#split into 3 parts\n",
    "print(np.array_split(arr,5))"
   ]
  },
  {
   "cell_type": "code",
   "execution_count": 98,
   "id": "11bf0f2c-6640-4c95-93ac-853dcaeba9a3",
   "metadata": {},
   "outputs": [
    {
     "name": "stdout",
     "output_type": "stream",
     "text": [
      "arr>3: [4 5]\n",
      "elements at indices 0,2: [1 3]\n"
     ]
    }
   ],
   "source": [
    "#advanced indexing\n",
    "#a.boolean indexing\n",
    "arr=np.array([1,2,3,4,5])\n",
    "print(\"arr>3:\",arr[arr>3])\n",
    "#b.fancy indexing\n",
    "indices=[0,2]\n",
    "print(\"elements at indices 0,2:\",arr[indices])"
   ]
  },
  {
   "cell_type": "code",
   "execution_count": 103,
   "id": "2e81606b-400a-49b3-81bb-8e64c11036df",
   "metadata": {},
   "outputs": [
    {
     "name": "stdout",
     "output_type": "stream",
     "text": [
      "[17  2  3]\n",
      "[17  2  3]\n",
      "[21  2  3]\n"
     ]
    }
   ],
   "source": [
    "#copy vs view\n",
    "#view shares memory,copy does not shares the memory(chnages wont update in the original data)\n",
    "arr=np.array([1,2,3])\n",
    "view=arr.view()\n",
    "view[0]=17\n",
    "print(arr)\n",
    "copy=arr.copy()\n",
    "copy[0]=21\n",
    "print(arr)\n",
    "print(copy)"
   ]
  },
  {
   "cell_type": "code",
   "execution_count": 104,
   "id": "5b71a1ff-546e-43b0-afdf-739a5182bfa2",
   "metadata": {},
   "outputs": [
    {
     "name": "stdout",
     "output_type": "stream",
     "text": [
      "[1 2 3]\n"
     ]
    }
   ],
   "source": [
    "#saving and loading\n",
    "#save to a file\n",
    "ar=np.array([1,2,3])\n",
    "np.save('array.npy',ar)\n",
    "#load from a file\n",
    "loaded_arr=np.load('array.npy')\n",
    "print(loaded_arr)"
   ]
  },
  {
   "cell_type": "code",
   "execution_count": 128,
   "id": "de9f6a67-f6b8-4cee-b92f-402bca7939e6",
   "metadata": {},
   "outputs": [
    {
     "name": "stdout",
     "output_type": "stream",
     "text": [
      "[10 11 12 13 14 15 16 17 18 19 20 21 22 23 24 25 26 27 28 29 30 31 32 33\n",
      " 34 35 36 37 38 39 40 41 42 43 44 45 46 47 48 49 50]\n",
      "[[0.15848187 0.01630411 0.76916896]\n",
      " [0.8093216  0.92827445 0.86905275]\n",
      " [0.39764342 0.09154275 0.51720893]]\n",
      "shape of arr1: (41,)\n",
      "size of arr1: 41\n",
      "data type of arr1: int64\n",
      "shape of arr2: (3, 3)\n",
      "size of arr2: 9\n",
      "dtype of arr2: float64\n",
      "2\n",
      "[15 16 17 18 19 20 21 22 23 24 25 26 27 28 29 30 31 32 33 34 35 36 37 38\n",
      " 39 40 41 42 43 44 45 46 47 48 49 50 51 52 53 54 55]\n",
      "product: [[ 4 10]\n",
      " [15 24]]\n",
      "[[ 1  2  3  4  5]\n",
      " [ 6  7  8  9 10]\n",
      " [11 12 13 14 15]\n",
      " [16 17 18 19 20]\n",
      " [21 22 23 24 25]]\n",
      "first row: [[1 2 3 4 5]]\n",
      "last column: [[ 5]\n",
      " [10]\n",
      " [15]\n",
      " [20]\n",
      " [25]]\n",
      "subarray: [[ 1  2]\n",
      " [ 6  7]\n",
      " [11 12]]\n",
      "[43 55 11 62 26 76 79 99 60 32]\n",
      "max: 99\n",
      "min: 11\n",
      "mean: 54.3\n",
      "std: 25.440322325002093\n",
      "[ 1  2  3  4  5  6  7  8  9 10 11 12]\n",
      "reshaped arr: [[ 1  2  3  4]\n",
      " [ 5  6  7  8]\n",
      " [ 9 10 11 12]]\n",
      "[[1. 1. 1.]\n",
      " [1. 1. 1.]\n",
      " [1. 1. 1.]]\n",
      "adding [1,2,3] to each row: [[2. 3. 4.]\n",
      " [2. 3. 4.]\n",
      " [2. 3. 4.]]\n",
      "[46 46  2  4 17 31 30  4  6 10 11 20  7 39  9 38 38 33]\n",
      "elements divided by 5 are:\n",
      "[30 10 20]\n",
      "[[1 2]\n",
      " [3 4]]\n",
      "[[5 6]\n",
      " [7 8]]\n",
      "[[19 22]\n",
      " [43 50]]\n",
      "4x4 Array:\n",
      "[[ 1  2  3  4]\n",
      " [ 5  6  7  8]\n",
      " [ 9 10 11 12]\n",
      " [13 14 15 16]]\n",
      "\n",
      "Diagonal elements using fancy indexing:\n",
      "[ 1  6 11 16]\n"
     ]
    }
   ],
   "source": [
    "'''\n",
    "TasksArray Creation\n",
    "Create a 1D array of numbers from 10 to 50.\n",
    "Create a 3x3 array of random numbers between 0 and 1\n",
    "'''\n",
    "arr1=np.arange(10,51)\n",
    "print(arr1)\n",
    "arr2=np.random.random((3,3))\n",
    "print(arr2)\n",
    "'''\n",
    "1.Array Attributes\n",
    "Find the shape, size, and data type of the array you created in the previous task.\n",
    "'''\n",
    "print(\"shape of arr1:\",arr1.shape)\n",
    "print(\"size of arr1:\",arr1.size)\n",
    "print(\"data type of arr1:\",arr1.dtype)\n",
    "print(\"shape of arr2:\",arr2.shape)\n",
    "print(\"size of arr2:\",arr2.size)\n",
    "print(\"dtype of arr2:\",arr2.dtype)\n",
    "print(arr2.ndim)\n",
    "'''\n",
    "2.Basic Operations\n",
    "Add 5 to every element of a 1D array.\n",
    "Multiply two 2D arrays element-wise.\n",
    "'''\n",
    "arr1=arr1+5\n",
    "print(arr1)\n",
    "a=np.array([[1,2],[3,4]])\n",
    "b=np.array([[4,5],[5,6]])\n",
    "print(\"product:\",a*b)\n",
    "'''\n",
    "3.Indexing and Slicing\n",
    "Create a 5x5 array of integers from 1 to 25. Extract:\n",
    "The first row.\n",
    "The last column.\n",
    "A subarray of the first three rows and first two columns.\n",
    "'''\n",
    "arr=np.arange(1,26)\n",
    "arr=arr.reshape(5,5)\n",
    "print(arr)\n",
    "print(\"first row:\",arr[:1])\n",
    "print(\"last column:\",arr[0:,4:])\n",
    "print(\"subarray:\",arr[0:3,0:2])\n",
    "'''\n",
    "4.Aggregation\n",
    "Create a 10-element array of random integers between 10 and 100. Find:\n",
    "The maximum value.\n",
    "The minimum value.\n",
    "The mean and standard deviation.\n",
    "'''\n",
    "arr=np.random.randint(10,100,size=10)\n",
    "print(arr)\n",
    "print(\"max:\",np.max(arr))\n",
    "print(\"min:\",np.min(arr))\n",
    "print(\"mean:\",np.mean(arr))\n",
    "print(\"std:\",np.std(arr))\n",
    "'''\n",
    "6.Convert a 1D array of numbers from 1 to 12 into a 3x4 matrix.\n",
    "'''\n",
    "arr=np.arange(1,13)\n",
    "print(arr)\n",
    "arr=arr.reshape(3,4)\n",
    "print(\"reshaped arr:\",arr)\n",
    "'''\n",
    "7.Broadcasting\n",
    "Create a 3x3 matrix of ones. Add a 1D array [1, 2, 3] to each row.\n",
    "'''\n",
    "arr=np.ones((3,3))\n",
    "print(arr)\n",
    "ar=np.array([1,2,3])\n",
    "print(\"adding [1,2,3] to each row:\",arr+ar)\n",
    "'''\n",
    "8.Filtering\n",
    "Create a 1D array of random integers between 1 and 50. Extract all elements that are divisible by 5.\n",
    "'''\n",
    "arr=np.random.randint(1,50,size=18)\n",
    "print(arr)\n",
    "print(\"elements divided by 5 are:\")\n",
    "arr=arr[arr%5==0]\n",
    "print(arr)\n",
    "'''\n",
    "9.Matrix Multiplication\n",
    "Create two 2x2 matrices and perform matrix multiplication.\n",
    "'''\n",
    "a=np.array([[1,2],[3,4]])\n",
    "b=np.array([[5,6],[7,8]])\n",
    "print(a)\n",
    "print(b)\n",
    "print(np.dot(a,b))\n",
    "'''\n",
    "10.Advanced Indexing\n",
    "Given a 4x4 array, use fancy indexing to extract the diagonal elements.\n",
    "'''\n",
    "arr = np.arange(1, 17).reshape(4, 4)\n",
    "print(\"4x4 Array:\")\n",
    "print(arr)\n",
    "rows = np.arange(4)\n",
    "cols = np.arange(4)\n",
    "diagonal = arr[rows, cols]\n",
    "print(\"\\nDiagonal elements using fancy indexing:\")\n",
    "print(diagonal)"
   ]
  },
  {
   "cell_type": "code",
   "execution_count": null,
   "id": "afc66b4a-f968-41f9-84be-927688551986",
   "metadata": {},
   "outputs": [],
   "source": []
  }
 ],
 "metadata": {
  "kernelspec": {
   "display_name": "Python 3 (ipykernel)",
   "language": "python",
   "name": "python3"
  },
  "language_info": {
   "codemirror_mode": {
    "name": "ipython",
    "version": 3
   },
   "file_extension": ".py",
   "mimetype": "text/x-python",
   "name": "python",
   "nbconvert_exporter": "python",
   "pygments_lexer": "ipython3",
   "version": "3.11.11"
  }
 },
 "nbformat": 4,
 "nbformat_minor": 5
}
